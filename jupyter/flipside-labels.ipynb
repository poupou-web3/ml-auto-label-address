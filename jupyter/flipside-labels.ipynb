{
 "cells": [
  {
   "cell_type": "code",
   "execution_count": 4,
   "metadata": {},
   "outputs": [],
   "source": [
    "import os \n",
    "import pandas as pd\n",
    "from pathlib import Path\n",
    "import numpy as np\n"
   ]
  },
  {
   "cell_type": "code",
   "execution_count": 5,
   "metadata": {},
   "outputs": [],
   "source": [
    "from sbscorer.sbdata.FlipsideApi import FlipsideApi"
   ]
  },
  {
   "cell_type": "code",
   "execution_count": 6,
   "metadata": {},
   "outputs": [],
   "source": [
    "api_key = os.environ['FLIPSIDE_API_KEY']\n",
    "flipside_api = FlipsideApi(api_key, max_address=1000, timeout_minutes=15)\n"
   ]
  },
  {
   "cell_type": "code",
   "execution_count": 7,
   "metadata": {},
   "outputs": [],
   "source": [
    "sql = \"\"\"\n",
    "\n",
    "WITH labels as (\n",
    "SELECT \n",
    "SYSTEM_CREATED_AT,\n",
    "BLOCKCHAIN,\n",
    "ADDRESS,\n",
    "CREATOR,\n",
    "LABEL_TYPE,\n",
    "LABEL_SUBTYPE,\n",
    "ADDRESS_NAME,\n",
    "ROW_NUMBER() OVER (PARTITION BY ADDRESS ORDER BY SYSTEM_CREATED_AT ASC) as rn\n",
    "FROM crosschain.core.dim_labels\n",
    "WHERE LABEL_TYPE IN ('cex', 'bridge')\n",
    "AND BLOCKCHAIN IN ('gnosis', 'evmos', 'fantom', 'polygon', 'arbitrum', 'ethereum', 'optimism', 'avalanche', 'base')\n",
    ")\n",
    "\n",
    "\n",
    "SELECT\n",
    "SYSTEM_CREATED_AT,\n",
    "ADDRESS,\n",
    "CREATOR,\n",
    "LABEL_TYPE,\n",
    "LABEL_SUBTYPE,\n",
    "ADDRESS_NAME\n",
    "from labels\n",
    "WHERE rn = 1\n",
    "\"\"\""
   ]
  },
  {
   "cell_type": "code",
   "execution_count": 8,
   "metadata": {},
   "outputs": [
    {
     "name": "stdout",
     "output_type": "stream",
     "text": [
      "QUERY_RUN_TIMEOUT_ERROR: your query has timed out after 325.0 seconds.\n",
      "\n",
      "\n",
      "WITH labels as (\n",
      "SELECT \n",
      "SYSTEM_CREATED_AT,\n",
      "BLOCKCHAIN,\n",
      "ADDRESS,\n",
      "CREATOR,\n",
      "LABEL_TYPE,\n",
      "LABEL_SUBTYPE,\n",
      "ADDRESS_NAME,\n",
      "ROW_NUMBER() OVER (PARTITION BY ADDRESS ORDER BY SYSTEM_CREATED_AT ASC) as rn\n",
      "FROM crosschain.core.dim_labels\n",
      "WHERE LABEL_TYPE IN ('cex', 'bridge')\n",
      "AND BLOCKCHAIN IN ('gnosis', 'evmos', 'fantom', 'polygon', 'arbitrum', 'ethereum', 'optimism', 'avalanche', 'base')\n",
      ")\n",
      "\n",
      "\n",
      "SELECT\n",
      "SYSTEM_CREATED_AT,\n",
      "ADDRESS,\n",
      "CREATOR,\n",
      "LABEL_TYPE,\n",
      "LABEL_SUBTYPE,\n",
      "ADDRESS_NAME\n",
      "from labels\n",
      "WHERE rn = 1\n",
      "\n"
     ]
    }
   ],
   "source": [
    "# retrieve labels\n",
    "df_labels = flipside_api.execute_query(sql)"
   ]
  },
  {
   "cell_type": "code",
   "execution_count": 9,
   "metadata": {},
   "outputs": [],
   "source": [
    "df_labels.to_csv(\"../data/flipside-labels.csv\", index=False)"
   ]
  },
  {
   "cell_type": "code",
   "execution_count": 10,
   "metadata": {},
   "outputs": [
    {
     "data": {
      "text/html": [
       "<div>\n",
       "<style scoped>\n",
       "    .dataframe tbody tr th:only-of-type {\n",
       "        vertical-align: middle;\n",
       "    }\n",
       "\n",
       "    .dataframe tbody tr th {\n",
       "        vertical-align: top;\n",
       "    }\n",
       "\n",
       "    .dataframe thead th {\n",
       "        text-align: right;\n",
       "    }\n",
       "</style>\n",
       "<table border=\"1\" class=\"dataframe\">\n",
       "  <thead>\n",
       "    <tr style=\"text-align: right;\">\n",
       "      <th></th>\n",
       "    </tr>\n",
       "  </thead>\n",
       "  <tbody>\n",
       "  </tbody>\n",
       "</table>\n",
       "</div>"
      ],
      "text/plain": [
       "Empty DataFrame\n",
       "Columns: []\n",
       "Index: []"
      ]
     },
     "execution_count": 10,
     "metadata": {},
     "output_type": "execute_result"
    }
   ],
   "source": [
    "df_labels"
   ]
  }
 ],
 "metadata": {
  "kernelspec": {
   "display_name": "venvlab",
   "language": "python",
   "name": "python3"
  },
  "language_info": {
   "codemirror_mode": {
    "name": "ipython",
    "version": 3
   },
   "file_extension": ".py",
   "mimetype": "text/x-python",
   "name": "python",
   "nbconvert_exporter": "python",
   "pygments_lexer": "ipython3",
   "version": "3.10.9"
  },
  "orig_nbformat": 4
 },
 "nbformat": 4,
 "nbformat_minor": 2
}
