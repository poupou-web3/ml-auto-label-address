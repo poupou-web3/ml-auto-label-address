{
 "cells": [
  {
   "cell_type": "code",
   "execution_count": 7,
   "metadata": {},
   "outputs": [
    {
     "name": "stderr",
     "output_type": "stream",
     "text": [
      "2023-09-14 15:52:34,153 INFO dune_client.base_client executing 1215383 on medium cluster\n"
     ]
    },
    {
     "name": "stdout",
     "output_type": "stream",
     "text": [
      "Results available at https://dune.com/queries/1215383?TextField=Word&NumberField=3.1415926535&DateField=2022-05-04+00%3A00%3A00&ListField=Option+1\n"
     ]
    },
    {
     "name": "stderr",
     "output_type": "stream",
     "text": [
      "2023-09-14 15:52:34,413 INFO dune_client.base_client waiting for query execution 01HA9ZE3YXKA4J07YE17EXF9TB to complete: ExecutionState.EXECUTING\n"
     ]
    }
   ],
   "source": [
    "import os\n",
    "import dotenv\n",
    "\n",
    "from dune_client.types import QueryParameter\n",
    "from dune_client.client import DuneClient\n",
    "from dune_client.query import QueryBase\n",
    "\n",
    "query = QueryBase(\n",
    "    name=\"Sample Query\",\n",
    "    query_id=1215383,\n",
    "    params=[\n",
    "        QueryParameter.text_type(name=\"TextField\", value=\"Word\"),\n",
    "        QueryParameter.number_type(name=\"NumberField\", value=3.1415926535),\n",
    "        QueryParameter.date_type(name=\"DateField\", value=\"2022-05-04 00:00:00\"),\n",
    "        QueryParameter.enum_type(name=\"ListField\", value=\"Option 1\"),\n",
    "    ],\n",
    ")\n",
    "print(\"Results available at\", query.url())\n",
    "\n",
    "dotenv.load_dotenv()\n",
    "dune = DuneClient(os.environ[\"DUNE_API_KEY\"])\n",
    "\n",
    "results_df = dune.run_query_dataframe(query)"
   ]
  },
  {
   "cell_type": "code",
   "execution_count": 6,
   "metadata": {},
   "outputs": [
    {
     "data": {
      "text/plain": [
       "ExecutionResultCSV(data=<_io.BytesIO object at 0x000001F61B2CEC00>)"
      ]
     },
     "execution_count": 6,
     "metadata": {},
     "output_type": "execute_result"
    }
   ],
   "source": [
    "results_csv"
   ]
  }
 ],
 "metadata": {
  "kernelspec": {
   "display_name": "venvlab",
   "language": "python",
   "name": "python3"
  },
  "language_info": {
   "codemirror_mode": {
    "name": "ipython",
    "version": 3
   },
   "file_extension": ".py",
   "mimetype": "text/x-python",
   "name": "python",
   "nbconvert_exporter": "python",
   "pygments_lexer": "ipython3",
   "version": "3.10.9"
  },
  "orig_nbformat": 4
 },
 "nbformat": 4,
 "nbformat_minor": 2
}
