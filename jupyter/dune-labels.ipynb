{
 "cells": [
  {
   "cell_type": "code",
   "execution_count": 8,
   "metadata": {},
   "outputs": [
    {
     "name": "stderr",
     "output_type": "stream",
     "text": [
      "2023-09-14 15:53:53,312 INFO dune_client.base_client executing 3024570 on medium cluster\n"
     ]
    },
    {
     "name": "stdout",
     "output_type": "stream",
     "text": [
      "Results available at https://dune.com/queries/3024570\n"
     ]
    },
    {
     "name": "stderr",
     "output_type": "stream",
     "text": [
      "2023-09-14 15:53:53,612 INFO dune_client.base_client waiting for query execution 01HA9ZGH8PAMSET5ZGBMK1WA51 to complete: ExecutionState.EXECUTING\n"
     ]
    }
   ],
   "source": [
    "import os\n",
    "import dotenv\n",
    "\n",
    "from dune_client.types import QueryParameter\n",
    "from dune_client.client import DuneClient\n",
    "from dune_client.query import QueryBase\n",
    "\n",
    "query = QueryBase(\n",
    "    name=\"Labels\",\n",
    "    query_id=3024570,\n",
    ")\n",
    "print(\"Results available at\", query.url())\n",
    "\n",
    "dotenv.load_dotenv()\n",
    "dune = DuneClient(os.environ[\"DUNE_API_KEY\"])\n",
    "\n",
    "results_df = dune.run_query_dataframe(query)"
   ]
  },
  {
   "cell_type": "code",
   "execution_count": 9,
   "metadata": {},
   "outputs": [
    {
     "data": {
      "text/html": [
       "<div>\n",
       "<style scoped>\n",
       "    .dataframe tbody tr th:only-of-type {\n",
       "        vertical-align: middle;\n",
       "    }\n",
       "\n",
       "    .dataframe tbody tr th {\n",
       "        vertical-align: top;\n",
       "    }\n",
       "\n",
       "    .dataframe thead th {\n",
       "        text-align: right;\n",
       "    }\n",
       "</style>\n",
       "<table border=\"1\" class=\"dataframe\">\n",
       "  <thead>\n",
       "    <tr style=\"text-align: right;\">\n",
       "      <th></th>\n",
       "      <th>address</th>\n",
       "      <th>name</th>\n",
       "      <th>category</th>\n",
       "      <th>contributor</th>\n",
       "      <th>created_at</th>\n",
       "    </tr>\n",
       "  </thead>\n",
       "  <tbody>\n",
       "    <tr>\n",
       "      <th>0</th>\n",
       "      <td>0x5bdf85216ec1e38d6458c870992a69e38e03f7ef</td>\n",
       "      <td>Bitget 2</td>\n",
       "      <td>institution</td>\n",
       "      <td>hildobby</td>\n",
       "      <td>2023-04-06 00:00:00.000 UTC</td>\n",
       "    </tr>\n",
       "    <tr>\n",
       "      <th>1</th>\n",
       "      <td>0xf89d7b9c864f589bbf53a82105107622b35eaa40</td>\n",
       "      <td>Huobi 1</td>\n",
       "      <td>institution</td>\n",
       "      <td>hildobby</td>\n",
       "      <td>2023-04-06 00:00:00.000 UTC</td>\n",
       "    </tr>\n",
       "    <tr>\n",
       "      <th>2</th>\n",
       "      <td>0x0d0707963952f2fba59dd06f2b425ace40b492fe</td>\n",
       "      <td>Gate.io 1</td>\n",
       "      <td>institution</td>\n",
       "      <td>hildobby</td>\n",
       "      <td>2023-04-06 00:00:00.000 UTC</td>\n",
       "    </tr>\n",
       "    <tr>\n",
       "      <th>3</th>\n",
       "      <td>0x1c4b70a3968436b9a0a9cf5205c787eb81bb558c</td>\n",
       "      <td>Gate.io 2</td>\n",
       "      <td>institution</td>\n",
       "      <td>hildobby</td>\n",
       "      <td>2023-04-06 00:00:00.000 UTC</td>\n",
       "    </tr>\n",
       "    <tr>\n",
       "      <th>4</th>\n",
       "      <td>0x6262998ced04146fa42253a5c0af90ca02dfd2a3</td>\n",
       "      <td>Crypto.com 2</td>\n",
       "      <td>institution</td>\n",
       "      <td>hildobby</td>\n",
       "      <td>2023-04-06 00:00:00.000 UTC</td>\n",
       "    </tr>\n",
       "    <tr>\n",
       "      <th>...</th>\n",
       "      <td>...</td>\n",
       "      <td>...</td>\n",
       "      <td>...</td>\n",
       "      <td>...</td>\n",
       "      <td>...</td>\n",
       "    </tr>\n",
       "    <tr>\n",
       "      <th>838</th>\n",
       "      <td>0xfe601de9d4295274b9904d5a9ad7069f23ee2b32</td>\n",
       "      <td>Harmony: LINK Bridge</td>\n",
       "      <td>bridge</td>\n",
       "      <td>hildobby</td>\n",
       "      <td>2022-09-22 00:00:00.000 UTC</td>\n",
       "    </tr>\n",
       "    <tr>\n",
       "      <th>839</th>\n",
       "      <td>0xfe9e8709d3215310075d67e3ed32a380ccf451c8</td>\n",
       "      <td>Binance 5</td>\n",
       "      <td>institution</td>\n",
       "      <td>hildobby</td>\n",
       "      <td>2022-08-28 00:00:00.000 UTC</td>\n",
       "    </tr>\n",
       "    <tr>\n",
       "      <th>840</th>\n",
       "      <td>0xff0a024b66739357c4ed231fb3dbc0c8c22749f5</td>\n",
       "      <td>Binance: WRX Proof of Assets</td>\n",
       "      <td>institution</td>\n",
       "      <td>soispoke</td>\n",
       "      <td>2022-11-14 00:00:00.000 UTC</td>\n",
       "    </tr>\n",
       "    <tr>\n",
       "      <th>841</th>\n",
       "      <td>0xff6b1cdfd2d3e37977d7938aa06b6d89d6675e27</td>\n",
       "      <td>Allbit 2</td>\n",
       "      <td>institution</td>\n",
       "      <td>hildobby</td>\n",
       "      <td>2022-08-28 00:00:00.000 UTC</td>\n",
       "    </tr>\n",
       "    <tr>\n",
       "      <th>842</th>\n",
       "      <td>0xffb3118124cdaebd9095fa9a479895042018cac2</td>\n",
       "      <td>MEXC 1</td>\n",
       "      <td>institution</td>\n",
       "      <td>hildobby</td>\n",
       "      <td>2023-04-06 00:00:00.000 UTC</td>\n",
       "    </tr>\n",
       "  </tbody>\n",
       "</table>\n",
       "<p>843 rows × 5 columns</p>\n",
       "</div>"
      ],
      "text/plain": [
       "                                        address                          name   \n",
       "0    0x5bdf85216ec1e38d6458c870992a69e38e03f7ef                      Bitget 2  \\\n",
       "1    0xf89d7b9c864f589bbf53a82105107622b35eaa40                       Huobi 1   \n",
       "2    0x0d0707963952f2fba59dd06f2b425ace40b492fe                     Gate.io 1   \n",
       "3    0x1c4b70a3968436b9a0a9cf5205c787eb81bb558c                     Gate.io 2   \n",
       "4    0x6262998ced04146fa42253a5c0af90ca02dfd2a3                  Crypto.com 2   \n",
       "..                                          ...                           ...   \n",
       "838  0xfe601de9d4295274b9904d5a9ad7069f23ee2b32          Harmony: LINK Bridge   \n",
       "839  0xfe9e8709d3215310075d67e3ed32a380ccf451c8                     Binance 5   \n",
       "840  0xff0a024b66739357c4ed231fb3dbc0c8c22749f5  Binance: WRX Proof of Assets   \n",
       "841  0xff6b1cdfd2d3e37977d7938aa06b6d89d6675e27                      Allbit 2   \n",
       "842  0xffb3118124cdaebd9095fa9a479895042018cac2                        MEXC 1   \n",
       "\n",
       "        category contributor                   created_at  \n",
       "0    institution    hildobby  2023-04-06 00:00:00.000 UTC  \n",
       "1    institution    hildobby  2023-04-06 00:00:00.000 UTC  \n",
       "2    institution    hildobby  2023-04-06 00:00:00.000 UTC  \n",
       "3    institution    hildobby  2023-04-06 00:00:00.000 UTC  \n",
       "4    institution    hildobby  2023-04-06 00:00:00.000 UTC  \n",
       "..           ...         ...                          ...  \n",
       "838       bridge    hildobby  2022-09-22 00:00:00.000 UTC  \n",
       "839  institution    hildobby  2022-08-28 00:00:00.000 UTC  \n",
       "840  institution    soispoke  2022-11-14 00:00:00.000 UTC  \n",
       "841  institution    hildobby  2022-08-28 00:00:00.000 UTC  \n",
       "842  institution    hildobby  2023-04-06 00:00:00.000 UTC  \n",
       "\n",
       "[843 rows x 5 columns]"
      ]
     },
     "execution_count": 9,
     "metadata": {},
     "output_type": "execute_result"
    }
   ],
   "source": [
    "results_df"
   ]
  },
  {
   "cell_type": "code",
   "execution_count": null,
   "metadata": {},
   "outputs": [],
   "source": [
    "results_df.to_csv(\"../data/dune-labels.csv\", index=False)"
   ]
  }
 ],
 "metadata": {
  "kernelspec": {
   "display_name": "venvlab",
   "language": "python",
   "name": "python3"
  },
  "language_info": {
   "codemirror_mode": {
    "name": "ipython",
    "version": 3
   },
   "file_extension": ".py",
   "mimetype": "text/x-python",
   "name": "python",
   "nbconvert_exporter": "python",
   "pygments_lexer": "ipython3",
   "version": "3.10.9"
  },
  "orig_nbformat": 4
 },
 "nbformat": 4,
 "nbformat_minor": 2
}
