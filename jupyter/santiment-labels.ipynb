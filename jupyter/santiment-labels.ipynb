{
 "cells": [
  {
   "cell_type": "code",
   "execution_count": 7,
   "metadata": {},
   "outputs": [],
   "source": [
    "import os\n",
    "import dotenv\n",
    "\n",
    "dotenv.load_dotenv()\n",
    "import san\n",
    "\n",
    "san.ApiConfig.api_key = os.environ[\"SAN\"]"
   ]
  },
  {
   "cell_type": "code",
   "execution_count": null,
   "metadata": {},
   "outputs": [],
   "source": [
    "query = \"\"\"\n",
    "query {\n",
    "\"\"\""
   ]
  },
  {
   "cell_type": "code",
   "execution_count": 14,
   "metadata": {},
   "outputs": [
    {
     "ename": "SanError",
     "evalue": "\n            Invalid call of the get function,you need to either\n            give <metric>/<slug> as a first argument or give a slug\n            or selector as a key-word argument!",
     "output_type": "error",
     "traceback": [
      "\u001b[1;31m---------------------------------------------------------------------------\u001b[0m",
      "\u001b[1;31mSanError\u001b[0m                                  Traceback (most recent call last)",
      "\u001b[1;32mc:\\Users\\DELL Admin\\Documents\\ODC\\ml-auto-label-address\\jupyter\\santiment-labels.ipynb Cell 3\u001b[0m line \u001b[0;36m1\n\u001b[1;32m----> <a href='vscode-notebook-cell:/c%3A/Users/DELL%20Admin/Documents/ODC/ml-auto-label-address/jupyter/santiment-labels.ipynb#W6sZmlsZQ%3D%3D?line=0'>1</a>\u001b[0m df_results \u001b[39m=\u001b[39m san\u001b[39m.\u001b[39;49mget(\u001b[39m\"\u001b[39;49m\u001b[39mgetAvailableMetrics\u001b[39;49m\u001b[39m\"\u001b[39;49m)\n",
      "File \u001b[1;32mc:\\Users\\DELL Admin\\Documents\\ODC\\ml-auto-label-address\\venvlab\\lib\\site-packages\\san\\get.py:43\u001b[0m, in \u001b[0;36mget\u001b[1;34m(dataset, **kwargs)\u001b[0m\n\u001b[0;32m     41\u001b[0m     \u001b[39mreturn\u001b[39;00m __get_metric_slug_string_selector(query, slug, dataset, \u001b[39m*\u001b[39m\u001b[39m*\u001b[39mkwargs)\n\u001b[0;32m     42\u001b[0m \u001b[39melif\u001b[39;00m query \u001b[39mand\u001b[39;00m \u001b[39mnot\u001b[39;00m slug:\n\u001b[1;32m---> 43\u001b[0m     \u001b[39mreturn\u001b[39;00m __get(query, \u001b[39m*\u001b[39m\u001b[39m*\u001b[39mkwargs)\n",
      "File \u001b[1;32mc:\\Users\\DELL Admin\\Documents\\ODC\\ml-auto-label-address\\venvlab\\lib\\site-packages\\san\\get.py:69\u001b[0m, in \u001b[0;36m__get\u001b[1;34m(query, **kwargs)\u001b[0m\n\u001b[0;32m     67\u001b[0m \u001b[39mdef\u001b[39;00m \u001b[39m__get\u001b[39m(query, \u001b[39m*\u001b[39m\u001b[39m*\u001b[39mkwargs):\n\u001b[0;32m     68\u001b[0m     \u001b[39mif\u001b[39;00m \u001b[39mnot\u001b[39;00m (\u001b[39m'\u001b[39m\u001b[39mselector\u001b[39m\u001b[39m'\u001b[39m \u001b[39min\u001b[39;00m kwargs \u001b[39mor\u001b[39;00m \u001b[39m'\u001b[39m\u001b[39mslug\u001b[39m\u001b[39m'\u001b[39m \u001b[39min\u001b[39;00m kwargs):\n\u001b[1;32m---> 69\u001b[0m         \u001b[39mraise\u001b[39;00m SanError(\u001b[39m'''\u001b[39m\n\u001b[0;32m     70\u001b[0m \u001b[39m            Invalid call of the get function,you need to either\u001b[39m\n\u001b[0;32m     71\u001b[0m \u001b[39m            give <metric>/<slug> as a first argument or give a slug\u001b[39m\n\u001b[0;32m     72\u001b[0m \u001b[39m            or selector as a key-word argument!\u001b[39m\u001b[39m'''\u001b[39m)\n\u001b[0;32m     73\u001b[0m     idx \u001b[39m=\u001b[39m kwargs\u001b[39m.\u001b[39mpop(\u001b[39m'\u001b[39m\u001b[39midx\u001b[39m\u001b[39m'\u001b[39m, \u001b[39m0\u001b[39m)\n\u001b[0;32m     75\u001b[0m     \u001b[39mif\u001b[39;00m query \u001b[39min\u001b[39;00m QUERY_MAPPING\u001b[39m.\u001b[39mkeys():\n",
      "\u001b[1;31mSanError\u001b[0m: \n            Invalid call of the get function,you need to either\n            give <metric>/<slug> as a first argument or give a slug\n            or selector as a key-word argument!"
     ]
    }
   ],
   "source": [
    "df_results = san.get(\"getAvailableMetrics\")"
   ]
  },
  {
   "cell_type": "code",
   "execution_count": 9,
   "metadata": {},
   "outputs": [],
   "source": [
    "df_results = san.execute_sql(query=query)"
   ]
  },
  {
   "cell_type": "code",
   "execution_count": 10,
   "metadata": {},
   "outputs": [
    {
     "data": {
      "text/html": [
       "<div>\n",
       "<style scoped>\n",
       "    .dataframe tbody tr th:only-of-type {\n",
       "        vertical-align: middle;\n",
       "    }\n",
       "\n",
       "    .dataframe tbody tr th {\n",
       "        vertical-align: top;\n",
       "    }\n",
       "\n",
       "    .dataframe thead th {\n",
       "        text-align: right;\n",
       "    }\n",
       "</style>\n",
       "<table border=\"1\" class=\"dataframe\">\n",
       "  <thead>\n",
       "    <tr style=\"text-align: right;\">\n",
       "      <th></th>\n",
       "      <th>metric_id</th>\n",
       "      <th>asset_id</th>\n",
       "      <th>dt</th>\n",
       "      <th>value</th>\n",
       "      <th>computed_at</th>\n",
       "    </tr>\n",
       "  </thead>\n",
       "  <tbody>\n",
       "    <tr>\n",
       "      <th>0</th>\n",
       "      <td>10</td>\n",
       "      <td>1369</td>\n",
       "      <td>2015-07-17T00:00:00Z</td>\n",
       "      <td>0.0</td>\n",
       "      <td>2020-10-21T08:48:42Z</td>\n",
       "    </tr>\n",
       "    <tr>\n",
       "      <th>1</th>\n",
       "      <td>10</td>\n",
       "      <td>1369</td>\n",
       "      <td>2015-07-18T00:00:00Z</td>\n",
       "      <td>0.0</td>\n",
       "      <td>2020-10-21T08:48:42Z</td>\n",
       "    </tr>\n",
       "    <tr>\n",
       "      <th>2</th>\n",
       "      <td>10</td>\n",
       "      <td>1369</td>\n",
       "      <td>2015-07-19T00:00:00Z</td>\n",
       "      <td>0.0</td>\n",
       "      <td>2020-10-21T08:48:42Z</td>\n",
       "    </tr>\n",
       "    <tr>\n",
       "      <th>3</th>\n",
       "      <td>10</td>\n",
       "      <td>1369</td>\n",
       "      <td>2015-07-20T00:00:00Z</td>\n",
       "      <td>0.0</td>\n",
       "      <td>2020-10-21T08:48:42Z</td>\n",
       "    </tr>\n",
       "    <tr>\n",
       "      <th>4</th>\n",
       "      <td>10</td>\n",
       "      <td>1369</td>\n",
       "      <td>2015-07-21T00:00:00Z</td>\n",
       "      <td>0.0</td>\n",
       "      <td>2020-10-21T08:48:42Z</td>\n",
       "    </tr>\n",
       "  </tbody>\n",
       "</table>\n",
       "</div>"
      ],
      "text/plain": [
       "   metric_id  asset_id                    dt  value           computed_at\n",
       "0         10      1369  2015-07-17T00:00:00Z    0.0  2020-10-21T08:48:42Z\n",
       "1         10      1369  2015-07-18T00:00:00Z    0.0  2020-10-21T08:48:42Z\n",
       "2         10      1369  2015-07-19T00:00:00Z    0.0  2020-10-21T08:48:42Z\n",
       "3         10      1369  2015-07-20T00:00:00Z    0.0  2020-10-21T08:48:42Z\n",
       "4         10      1369  2015-07-21T00:00:00Z    0.0  2020-10-21T08:48:42Z"
      ]
     },
     "execution_count": 10,
     "metadata": {},
     "output_type": "execute_result"
    }
   ],
   "source": [
    "df_results"
   ]
  },
  {
   "cell_type": "code",
   "execution_count": null,
   "metadata": {},
   "outputs": [],
   "source": [
    "df_results.to_csv(\"../data/dune-labels.csv\", index=False)"
   ]
  }
 ],
 "metadata": {
  "kernelspec": {
   "display_name": "venvlab",
   "language": "python",
   "name": "python3"
  },
  "language_info": {
   "codemirror_mode": {
    "name": "ipython",
    "version": 3
   },
   "file_extension": ".py",
   "mimetype": "text/x-python",
   "name": "python",
   "nbconvert_exporter": "python",
   "pygments_lexer": "ipython3",
   "version": "3.10.9"
  },
  "orig_nbformat": 4
 },
 "nbformat": 4,
 "nbformat_minor": 2
}
